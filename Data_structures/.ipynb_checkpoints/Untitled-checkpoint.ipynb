{
 "cells": [
  {
   "cell_type": "markdown",
   "id": "afae5a8d",
   "metadata": {},
   "source": [
    "# Big O\n",
    "\n",
    "### Big O notation is used to measure how running time or space reuirements for your program grows as input size grows"
   ]
  },
  {
   "cell_type": "markdown",
   "id": "2712037a",
   "metadata": {},
   "source": [
    "| Big O     | Name              | Example                                 |\n",
    "|-----------|-------------------|-----------------------------------------|\n",
    "| O(1)      | Constant time     | Accessing an array element `arr[i]`     |\n",
    "| O(log n)  | Logarithmic time  | Binary search                           |\n",
    "| O(n)      | Linear time       | Iterating through an array              |\n",
    "| O(n log n)| Linearithmic time | Merge sort, quicksort (average case)    |\n",
    "| O(n²)     | Quadratic time    | Nested loops (e.g., bubble sort)        |\n",
    "| O(2ⁿ)     | Exponential time  | Recursive Fibonacci, backtracking       |\n",
    "| O(n!)     | Factorial time    | Solving the traveling salesman problem  |\n"
   ]
  },
  {
   "cell_type": "markdown",
   "id": "2f9a9064",
   "metadata": {},
   "source": [
    "![Data Flow](images/bigo.png)\n"
   ]
  },
  {
   "cell_type": "markdown",
   "id": "c458c1eb",
   "metadata": {},
   "source": [
    "## 🧱 Built-in Python Data Structures\n",
    "\n",
    "| Structure | Description                         | Mutable | Example                                | Common Use Cases                        |\n",
    "|-----------|-------------------------------------|---------|----------------------------------------|-----------------------------------------|\n",
    "| List      | Ordered, dynamic array of items     | ✅      | `fruits = ['apple', 'banana', 'cherry']` | Collections, stacks, queues             |\n",
    "| Tuple     | Ordered, immutable sequence         | ❌      | `point = (2, 3)`                        | Fixed data, function returns            |\n",
    "| Set       | Unordered collection of unique elements | ✅   | `unique_numbers = {1, 2, 3}`            | Fast membership test, removing dupes    |\n",
    "| Dict      | Key-value pairs (hash map)          | ✅      | `person = {'name': 'Alice', 'age': 30}` | Fast lookup, config/settings storage    |\n",
    "| String    | Immutable text sequences            | ❌      | `greeting = \"Hello\"`                   | Text processing, data parsing           |\n"
   ]
  },
  {
   "cell_type": "code",
   "execution_count": null,
   "id": "a6c4436b",
   "metadata": {},
   "outputs": [],
   "source": []
  },
  {
   "cell_type": "markdown",
   "id": "b7369b0f",
   "metadata": {},
   "source": [
    "### 🔁 Mutable Types\n",
    "You can change the content without changing the object’s identity (`id()`):\n",
    "\n",
    "**Common mutable types:**\n",
    "- `list`\n",
    "- `dict`\n",
    "- `set`\n",
    "- `bytearray`\n",
    "\n",
    "---\n",
    "\n",
    "### 🔒 Immutable Types\n",
    "You can’t change them directly — any modification creates a new object:\n",
    "\n",
    "**Common immutable types:**\n",
    "- `int`\n",
    "- `float`\n",
    "- `str`\n",
    "- `tuple`\n",
    "- `frozenset`\n",
    "- `bytes`\n"
   ]
  },
  {
   "cell_type": "code",
   "execution_count": 2,
   "id": "d251376e",
   "metadata": {},
   "outputs": [
    {
     "name": "stdout",
     "output_type": "stream",
     "text": [
      "hello world\n"
     ]
    }
   ],
   "source": [
    "x = \"hello\"\n",
    "x += \" world\"\n",
    "print(x)  # 'hello world'\n"
   ]
  },
  {
   "cell_type": "code",
   "execution_count": 3,
   "id": "27915782",
   "metadata": {},
   "outputs": [
    {
     "name": "stdout",
     "output_type": "stream",
     "text": [
      "2709313973872\n",
      "hello world\n",
      "2709334855600\n"
     ]
    }
   ],
   "source": [
    "x = \"hello\"\n",
    "print(id(x)) \n",
    "\n",
    "x += \" world\"  # This creates a NEW string\n",
    "print(x)       # 'hello world'\n",
    "print(id(x))  \n"
   ]
  },
  {
   "cell_type": "code",
   "execution_count": null,
   "id": "d009904a",
   "metadata": {},
   "outputs": [],
   "source": []
  }
 ],
 "metadata": {
  "kernelspec": {
   "display_name": "Python 3 (ipykernel)",
   "language": "python",
   "name": "python3"
  },
  "language_info": {
   "codemirror_mode": {
    "name": "ipython",
    "version": 3
   },
   "file_extension": ".py",
   "mimetype": "text/x-python",
   "name": "python",
   "nbconvert_exporter": "python",
   "pygments_lexer": "ipython3",
   "version": "3.11.4"
  }
 },
 "nbformat": 4,
 "nbformat_minor": 5
}
