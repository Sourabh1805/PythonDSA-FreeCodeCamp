{
 "cells": [
  {
   "cell_type": "markdown",
   "id": "9f92f60f",
   "metadata": {},
   "source": [
    "# Big O"
   ]
  },
  {
   "cell_type": "markdown",
   "id": "35ea992b",
   "metadata": {},
   "source": [
    "#### Big O notation is used to measure how running time or space reuirements for your program grows as input size grows"
   ]
  },
  {
   "cell_type": "markdown",
   "id": "7b48fad9",
   "metadata": {},
   "source": [
    "| Big O     | Name              | Example                                 |\n",
    "|-----------|-------------------|-----------------------------------------|\n",
    "| O(1)      | Constant time     | Accessing an array element `arr[i]`     |\n",
    "| O(log n)  | Logarithmic time  | Binary search                           |\n",
    "| O(n)      | Linear time       | Iterating through an array              |\n",
    "| O(n log n)| Linearithmic time | Merge sort, quicksort (average case)    |\n",
    "| O(n²)     | Quadratic time    | Nested loops (e.g., bubble sort)        |\n",
    "| O(2ⁿ)     | Exponential time  | Recursive Fibonacci, backtracking       |\n",
    "| O(n!)     | Factorial time    | Solving the traveling salesman problem  |\n"
   ]
  },
  {
   "cell_type": "markdown",
   "id": "9db82282",
   "metadata": {},
   "source": [
    "![bigO](img/bigo.png)\n"
   ]
  },
  {
   "cell_type": "markdown",
   "id": "a175c7b0",
   "metadata": {},
   "source": [
    "![BigoGraph](img/bigograph.png)"
   ]
  }
 ],
 "metadata": {
  "kernelspec": {
   "display_name": "Python 3 (ipykernel)",
   "language": "python",
   "name": "python3"
  },
  "language_info": {
   "codemirror_mode": {
    "name": "ipython",
    "version": 3
   },
   "file_extension": ".py",
   "mimetype": "text/x-python",
   "name": "python",
   "nbconvert_exporter": "python",
   "pygments_lexer": "ipython3",
   "version": "3.11.4"
  }
 },
 "nbformat": 4,
 "nbformat_minor": 5
}
