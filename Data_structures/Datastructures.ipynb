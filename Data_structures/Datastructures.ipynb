{
 "cells": [
  {
   "cell_type": "markdown",
   "id": "949dda27",
   "metadata": {},
   "source": [
    "# Datastructures"
   ]
  },
  {
   "cell_type": "markdown",
   "id": "5dc3285c",
   "metadata": {},
   "source": [
    "## 🧱 Built-in Python Data Structures\n",
    "\n",
    "| Structure | Description                         | Mutable | Example                                | Common Use Cases                        |\n",
    "|-----------|-------------------------------------|---------|----------------------------------------|-----------------------------------------|\n",
    "| List      | Ordered, dynamic array of items     | ✅      | `fruits = ['apple', 'banana', 'cherry']` | Collections, stacks, queues             |\n",
    "| Tuple     | Ordered, immutable sequence         | ❌      | `point = (2, 3)`                        | Fixed data, function returns            |\n",
    "| Set       | Unordered collection of unique elements | ✅   | `unique_numbers = {1, 2, 3}`            | Fast membership test, removing dupes    |\n",
    "| Dict      | Key-value pairs (hash map)          | ✅      | `person = {'name': 'Alice', 'age': 30}` | Fast lookup, config/settings storage    |\n",
    "| String    | Immutable text sequences            | ❌      | `greeting = \"Hello\"`                   | Text processing, data parsing           |\n"
   ]
  },
  {
   "cell_type": "markdown",
   "id": "f3c73cd2",
   "metadata": {},
   "source": [
    "### 🔁 Mutable Types\n",
    "You can change the content without changing the object’s identity (`id()`):\n",
    "\n",
    "**Common mutable types:**\n",
    "- `list`\n",
    "- `dict`\n",
    "- `set`\n",
    "- `bytearray`\n",
    "\n",
    "---\n",
    "\n",
    "### 🔒 Immutable Types\n",
    "You can’t change them directly — any modification creates a new object:\n",
    "\n",
    "**Common immutable types:**\n",
    "- `int`\n",
    "- `float`\n",
    "- `str`\n",
    "- `tuple`\n",
    "- `frozenset`\n",
    "- `bytes`\n"
   ]
  },
  {
   "cell_type": "code",
   "execution_count": 2,
   "id": "5172e235",
   "metadata": {},
   "outputs": [
    {
     "name": "stdout",
     "output_type": "stream",
     "text": [
      "hello world\n"
     ]
    }
   ],
   "source": [
    "x = \"hello\"\n",
    "x += \" world\"\n",
    "print(x)  # 'hello world'\n"
   ]
  },
  {
   "cell_type": "code",
   "execution_count": 3,
   "id": "681b4620",
   "metadata": {},
   "outputs": [
    {
     "name": "stdout",
     "output_type": "stream",
     "text": [
      "2709313973872\n",
      "hello world\n",
      "2709334855600\n"
     ]
    }
   ],
   "source": [
    "x = \"hello\"\n",
    "print(id(x)) \n",
    "\n",
    "x += \" world\"  # This creates a NEW string\n",
    "print(x)       # 'hello world'\n",
    "print(id(x))  \n"
   ]
  },
  {
   "cell_type": "markdown",
   "id": "c664b450",
   "metadata": {},
   "source": [
    "🔢 1. int, float, bool, str (Primitive Types)"
   ]
  },
  {
   "cell_type": "markdown",
   "id": "7763f93e",
   "metadata": {},
   "source": [
    "✅ int / float\n",
    "- What: Numeric types — int for integers, float for decimal numbers.\n",
    "\n",
    "- Usage: Math, counters, IDs, indexes, prices, etc.\n",
    "\n",
    "- integer division (//), rounding, and float precision issues."
   ]
  },
  {
   "cell_type": "markdown",
   "id": "e1b3c940",
   "metadata": {},
   "source": [
    "✅ bool\n",
    "- What: True or False — used for logic and conditions."
   ]
  },
  {
   "cell_type": "code",
   "execution_count": null,
   "id": "d341e23a",
   "metadata": {},
   "outputs": [],
   "source": []
  },
  {
   "cell_type": "code",
   "execution_count": null,
   "id": "de93f531",
   "metadata": {},
   "outputs": [],
   "source": []
  },
  {
   "cell_type": "markdown",
   "id": "9842a9bf",
   "metadata": {},
   "source": [
    "# 1. List"
   ]
  },
  {
   "cell_type": "markdown",
   "id": "c9dc6817",
   "metadata": {},
   "source": [
    "### 📦 2. list – Ordered, Mutable Sequence\n",
    "✅ Key Properties:\n",
    "- Preserves order.\n",
    "\n",
    "- Allows duplicates.\n",
    "\n",
    "- Elements can be any type (mixed-type).\n",
    "\n",
    "- Mutable — you can modify elements in-place.\n",
    "\n",
    "### ✅ Interview Importance:\n",
    "- Most common data structure in Python questions.\n",
    "\n",
    "- Understand operations: append, pop, slicing, list comprehension.\n",
    "\n",
    "- Be ready for in-place operations vs. copy.\n",
    "\n",
    "- Know time complexity for common operations (append: O(1), insert/delete: O(n))."
   ]
  },
  {
   "cell_type": "code",
   "execution_count": 8,
   "id": "16d528c0",
   "metadata": {},
   "outputs": [],
   "source": [
    "empty_list = []\n",
    "my_list = [1, 2, 3, 4]\n",
    "matrix = [[1, 2], [3, 4]]\n",
    "mixed = [1, \"two\", 3.0, [4, 5]]\n"
   ]
  },
  {
   "cell_type": "code",
   "execution_count": 3,
   "id": "7c3bcd6a",
   "metadata": {},
   "outputs": [
    {
     "name": "stdout",
     "output_type": "stream",
     "text": [
      "Created: [1, 2, 3] [] [0, 1, 2, 3, 4]\n"
     ]
    }
   ],
   "source": [
    "# 1. Creation\n",
    "\n",
    "my_list = [1, 2, 3]\n",
    "empty = []\n",
    "from_range = list(range(5))\n",
    "print(\"Created:\", my_list, empty, from_range)"
   ]
  },
  {
   "cell_type": "code",
   "execution_count": 4,
   "id": "76520cb5",
   "metadata": {},
   "outputs": [
    {
     "name": "stdout",
     "output_type": "stream",
     "text": [
      "After append: [1, 2, 3, 4]\n",
      "After extend: [1, 2, 3, 4, 5, 6]\n",
      "After insert: [1, 99, 2, 3, 4, 5, 6]\n",
      "After += : [1, 99, 2, 3, 4, 5, 6, 7, 8]\n"
     ]
    }
   ],
   "source": [
    "# 2. Adding Elements\n",
    "\n",
    "my_list.append(4)\n",
    "print(\"After append:\", my_list)\n",
    "\n",
    "my_list.extend([5, 6])\n",
    "print(\"After extend:\", my_list)\n",
    "\n",
    "my_list.insert(1, 99)\n",
    "print(\"After insert:\", my_list)\n",
    "\n",
    "my_list += [7, 8]\n",
    "print(\"After += :\", my_list)"
   ]
  },
  {
   "cell_type": "code",
   "execution_count": 5,
   "id": "a44ed43a",
   "metadata": {},
   "outputs": [
    {
     "name": "stdout",
     "output_type": "stream",
     "text": [
      "After pop: [1, 99, 2, 3, 4, 5, 6, 7]\n",
      "After pop(1): [1, 2, 3, 4, 5, 6, 7]\n",
      "After remove(2): [1, 3, 4, 5, 6, 7]\n"
     ]
    }
   ],
   "source": [
    "# 3. Removing Elements\n",
    "\n",
    "my_list.pop()  # removes last\n",
    "print(\"After pop:\", my_list)\n",
    "\n",
    "my_list.pop(1)  # removes at index 1\n",
    "print(\"After pop(1):\", my_list)\n",
    "\n",
    "my_list.remove(2)  # removes first occurrence of 2\n",
    "print(\"After remove(2):\", my_list)"
   ]
  },
  {
   "cell_type": "code",
   "execution_count": 8,
   "id": "01e5df13",
   "metadata": {},
   "outputs": [
    {
     "name": "stdout",
     "output_type": "stream",
     "text": [
      "List  [1, 3, 4, 5, 6, 7]\n",
      "First item: 1\n",
      "Last item: 7\n",
      "Slice [1:3]: [3, 4]\n",
      "Reversed: [7, 6, 5, 4, 3, 1]\n"
     ]
    }
   ],
   "source": [
    "# 4. Accessing Items\n",
    "print(\"List \", my_list)\n",
    "print(\"First item:\", my_list[0])\n",
    "print(\"Last item:\", my_list[-1])\n",
    "print(\"Slice [1:3]:\", my_list[1:3])\n",
    "print(\"Reversed:\", my_list[::-1])"
   ]
  },
  {
   "cell_type": "code",
   "execution_count": 9,
   "id": "e78d4f2d",
   "metadata": {},
   "outputs": [
    {
     "name": "stdout",
     "output_type": "stream",
     "text": [
      "After update index 2: [1, 3, 10, 5, 6, 7]\n",
      "After slice update: [1, 20, 30, 5, 6, 7]\n"
     ]
    }
   ],
   "source": [
    "# 5. Updating Items\n",
    "\n",
    "my_list[2] = 10\n",
    "print(\"After update index 2:\", my_list)\n",
    "\n",
    "my_list[1:3] = [20, 30]\n",
    "print(\"After slice update:\", my_list)"
   ]
  },
  {
   "cell_type": "code",
   "execution_count": 10,
   "id": "060b8947",
   "metadata": {},
   "outputs": [
    {
     "name": "stdout",
     "output_type": "stream",
     "text": [
      "Is 3 in list? False\n",
      "Index of 5: 3\n",
      "Count of 5: 1\n"
     ]
    }
   ],
   "source": [
    "# 6. Searching / Checking\n",
    "\n",
    "print(\"Is 3 in list?\", 3 in my_list)\n",
    "print(\"Index of 5:\", my_list.index(5))\n",
    "print(\"Count of 5:\", my_list.count(5))"
   ]
  },
  {
   "cell_type": "code",
   "execution_count": 11,
   "id": "e5d55887",
   "metadata": {},
   "outputs": [
    {
     "name": "stdout",
     "output_type": "stream",
     "text": [
      "Sorted ascending: [1, 5, 6, 7, 20, 30]\n",
      "Sorted descending: [30, 20, 7, 6, 5, 1]\n",
      "Sorted (copy): [1, 5, 6, 7, 20, 30]\n",
      "Reversed in-place: [1, 5, 6, 7, 20, 30]\n",
      "Reversed (copy): [30, 20, 7, 6, 5, 1]\n"
     ]
    }
   ],
   "source": [
    "# 7. Sorting & Reversing\n",
    "\n",
    "my_list.sort()\n",
    "print(\"Sorted ascending:\", my_list)\n",
    "\n",
    "my_list.sort(reverse=True)\n",
    "print(\"Sorted descending:\", my_list)\n",
    "\n",
    "print(\"Sorted (copy):\", sorted(my_list))\n",
    "my_list.reverse()\n",
    "print(\"Reversed in-place:\", my_list)\n",
    "\n",
    "print(\"Reversed (copy):\", list(reversed(my_list)))"
   ]
  },
  {
   "cell_type": "code",
   "execution_count": 12,
   "id": "da3c4a44",
   "metadata": {},
   "outputs": [
    {
     "name": "stdout",
     "output_type": "stream",
     "text": [
      "Squares: [0, 1, 4, 9, 16]\n",
      "Even numbers: [6, 20, 30]\n"
     ]
    }
   ],
   "source": [
    "# 8. List Comprehension\n",
    "\n",
    "squares = [x**2 for x in range(5)]\n",
    "print(\"Squares:\", squares)\n",
    "\n",
    "evens = [x for x in my_list if x % 2 == 0]\n",
    "print(\"Even numbers:\", evens)"
   ]
  },
  {
   "cell_type": "code",
   "execution_count": 13,
   "id": "cbea0216",
   "metadata": {},
   "outputs": [
    {
     "name": "stdout",
     "output_type": "stream",
     "text": [
      "Copy1: [1, 5, 6, 7, 20, 30]\n",
      "Copy2: [1, 5, 6, 7, 20, 30]\n"
     ]
    }
   ],
   "source": [
    "# 9. Copying Lists\n",
    "copy1 = my_list.copy()\n",
    "copy2 = my_list[:]\n",
    "print(\"Copy1:\", copy1)\n",
    "print(\"Copy2:\", copy2)"
   ]
  },
  {
   "cell_type": "code",
   "execution_count": 14,
   "id": "52bb14ba",
   "metadata": {},
   "outputs": [
    {
     "name": "stdout",
     "output_type": "stream",
     "text": [
      "Unpacked: 1 2 3\n",
      "First: 10 Rest: [20, 30, 40]\n"
     ]
    }
   ],
   "source": [
    "# 10. Unpacking Lists\n",
    "\n",
    "a, b, c = [1, 2, 3]\n",
    "print(\"Unpacked:\", a, b, c)\n",
    "\n",
    "first, *rest = [10, 20, 30, 40]\n",
    "print(\"First:\", first, \"Rest:\", rest)"
   ]
  },
  {
   "cell_type": "code",
   "execution_count": null,
   "id": "24da2473",
   "metadata": {},
   "outputs": [],
   "source": []
  },
  {
   "cell_type": "markdown",
   "id": "3d2c3ddd",
   "metadata": {},
   "source": [
    "#### Python lists are dynamic. 🎯\n",
    "    \n",
    "    That means:\n",
    "\n",
    "- You don’t need to declare a fixed size when creating a list.\n",
    "\n",
    "- They automatically grow or shrink as you add or remove elements."
   ]
  },
  {
   "cell_type": "code",
   "execution_count": 10,
   "id": "32ed4f15",
   "metadata": {},
   "outputs": [
    {
     "name": "stdout",
     "output_type": "stream",
     "text": [
      "2709335362624\n",
      "2709335362624\n",
      "2709335362624\n"
     ]
    }
   ],
   "source": [
    "my_list = [1, 2, 3]\n",
    "print(id(my_list))\n",
    "my_list.append(4)          # ➜ [1, 2, 3, 4]\n",
    "print(id(my_list))\n",
    "my_list.extend([5, 6])     # ➜ [1, 2, 3, 4, 5, 6]\n",
    "my_list.pop()              # ➜ [1, 2, 3, 4, 5]"
   ]
  },
  {
   "cell_type": "code",
   "execution_count": 27,
   "id": "ac1dcaed",
   "metadata": {},
   "outputs": [
    {
     "name": "stdout",
     "output_type": "stream",
     "text": [
      "Length: 1, Size in bytes: 88\n",
      "Length: 2, Size in bytes: 88\n",
      "Length: 3, Size in bytes: 88\n",
      "Length: 4, Size in bytes: 88\n",
      "Length: 5, Size in bytes: 120\n",
      "Length: 6, Size in bytes: 120\n",
      "Length: 7, Size in bytes: 120\n",
      "Length: 8, Size in bytes: 120\n",
      "Length: 9, Size in bytes: 184\n",
      "Length: 10, Size in bytes: 184\n"
     ]
    }
   ],
   "source": [
    "import sys\n",
    "\n",
    "lst = []\n",
    "for i in range(10):\n",
    "    lst.append(i)\n",
    "    print(f\"Length: {len(lst)}, Size in bytes: {sys.getsizeof(lst)}\")\n"
   ]
  },
  {
   "cell_type": "markdown",
   "id": "4a973504",
   "metadata": {},
   "source": [
    "## Ndarry"
   ]
  },
  {
   "cell_type": "markdown",
   "id": "faf58635",
   "metadata": {},
   "source": [
    "A numpy.ndarray (n-dimensional array) is a homogeneous, multi-dimensional array — meaning all elements are of the same data type, and it's optimized for speed and efficiency."
   ]
  },
  {
   "cell_type": "markdown",
   "id": "08af54bf",
   "metadata": {},
   "source": [
    "| Feature              | Description                                                                 |\n",
    "|----------------------|-----------------------------------------------------------------------------|\n",
    "| Homogeneous data     | All elements have the same type (e.g. int32, float64)                       |\n",
    "| Fixed size           | Once created, the shape doesn’t change (unlike lists)                      |\n",
    "| Vectorized operations| Apply operations to entire arrays without loops                             |\n",
    "| Memory efficient     | More compact than Python lists                                              |\n",
    "| Multi-dimensional    | Supports 1D, 2D, 3D... nD arrays (e.g. matrices, tensors)                    |\n"
   ]
  },
  {
   "cell_type": "markdown",
   "id": "c7a9eb43",
   "metadata": {},
   "source": [
    "## ⚡ Why Use `ndarray` over Python `list`?\n",
    "\n",
    "| Operation           | list (Python)     | ndarray (NumPy)   |\n",
    "|---------------------|-------------------|-------------------|\n",
    "| Element-wise math   | ❌ Needs loops     | ✅ Fast & easy     |\n",
    "| Memory usage        | ❌ Higher          | ✅ Lower           |\n",
    "| Speed               | ❌ Slower          | ✅ Much faster     |\n",
    "| Broadcasting        | ❌ No              | ✅ Yes             |\n"
   ]
  },
  {
   "cell_type": "markdown",
   "id": "0d404adc",
   "metadata": {},
   "source": [
    "###  Example: Multiply Each Element by 2"
   ]
  },
  {
   "cell_type": "code",
   "execution_count": 29,
   "id": "92ffbbc9",
   "metadata": {},
   "outputs": [
    {
     "name": "stdout",
     "output_type": "stream",
     "text": [
      "[2, 4, 6, 8, 10]\n",
      "[ 2  4  6  8 10]\n"
     ]
    }
   ],
   "source": [
    "my_list = [1, 2, 3, 4, 5]\n",
    "doubled = [x * 2 for x in my_list]\n",
    "\n",
    "print(doubled)  # Output: [2, 4, 6, 8, 10]\n",
    "\n",
    "\n",
    "import numpy as np\n",
    "\n",
    "my_array = np.array([1, 2, 3, 4, 5])\n",
    "doubled = my_array * 2\n",
    "\n",
    "print(doubled)  # Output: [ 2  4  6  8 10]\n"
   ]
  },
  {
   "cell_type": "markdown",
   "id": "5ca97b7c",
   "metadata": {},
   "source": [
    "### Matrix Mutiplication"
   ]
  },
  {
   "cell_type": "code",
   "execution_count": 33,
   "id": "41bdf102",
   "metadata": {},
   "outputs": [
    {
     "name": "stdout",
     "output_type": "stream",
     "text": [
      "[[1, 2], [3, 4]]\n",
      "[[5, 6], [7, 8]]\n",
      "[[19, 22], [43, 50]]\n"
     ]
    }
   ],
   "source": [
    "A = [[1, 2],\n",
    "     [3, 4]]\n",
    "\n",
    "B = [[5, 6],\n",
    "     [7, 8]]\n",
    "# Manual multiplication\n",
    "print(A)\n",
    "print(B)\n",
    "result = [[A[0][0]*B[0][0] + A[0][1]*B[1][0], A[0][0]*B[0][1] + A[0][1]*B[1][1]],\n",
    "          [A[1][0]*B[0][0] + A[1][1]*B[1][0], A[1][0]*B[0][1] + A[1][1]*B[1][1]]]\n",
    "print(result)"
   ]
  },
  {
   "cell_type": "code",
   "execution_count": 34,
   "id": "3e363a8b",
   "metadata": {},
   "outputs": [
    {
     "name": "stdout",
     "output_type": "stream",
     "text": [
      "[[1 2]\n",
      " [3 4]]\n",
      "[[5 6]\n",
      " [7 8]]\n",
      "[[19 22]\n",
      " [43 50]]\n"
     ]
    }
   ],
   "source": [
    "A = np.array([[1, 2],\n",
    "              [3, 4]])\n",
    "\n",
    "B = np.array([[5, 6],\n",
    "              [7, 8]])\n",
    "\n",
    "print(A)\n",
    "print(B)\n",
    "result = np.dot(A, B)\n",
    "print(result)"
   ]
  },
  {
   "cell_type": "markdown",
   "id": "21c5ac4c",
   "metadata": {},
   "source": [
    "### Conditional Logic (np.where)"
   ]
  },
  {
   "cell_type": "code",
   "execution_count": null,
   "id": "0376d71f",
   "metadata": {},
   "outputs": [],
   "source": []
  },
  {
   "cell_type": "code",
   "execution_count": null,
   "id": "a19ead3c",
   "metadata": {},
   "outputs": [],
   "source": []
  },
  {
   "cell_type": "markdown",
   "id": "d27ccbb3",
   "metadata": {},
   "source": [
    "# Dictionary"
   ]
  },
  {
   "cell_type": "markdown",
   "id": "78a24a65",
   "metadata": {},
   "source": [
    "### 🔑  dict – Key-Value Mapping (Hash Table)\n",
    "\n",
    "✅ Key Properties:\n",
    "- Stores key-value pairs.\n",
    "\n",
    "- Keys must be immutable and hashable (e.g. string, int, tuple).\n",
    "\n",
    "- Values can be anything.\n",
    "\n",
    "- Insertion order preserved (Python 3.7+).\n",
    "\n",
    "✅ Interview Importance:\n",
    "- Extremely common for lookup problems (e.g., word counts, frequency maps).\n",
    "\n",
    "- Often used to optimize from O(n²) to O(n).\n",
    "\n",
    "- Understand collision handling (hash table theory).\n",
    "\n",
    "- Practice dictionary comprehension and nested dicts."
   ]
  },
  {
   "cell_type": "code",
   "execution_count": 15,
   "id": "b3e0ab67",
   "metadata": {},
   "outputs": [
    {
     "name": "stdout",
     "output_type": "stream",
     "text": [
      "Dictionary: {'name': 'Alice', 'age': 25, 'city': 'New York'}\n"
     ]
    }
   ],
   "source": [
    "# Dictionary Creation\n",
    "my_dict = {\"name\": \"Alice\", \"age\": 25, \"city\": \"New York\"}\n",
    "empty_dict = {}\n",
    "print(\"Dictionary:\", my_dict)\n"
   ]
  },
  {
   "cell_type": "code",
   "execution_count": 16,
   "id": "395e46ef",
   "metadata": {},
   "outputs": [
    {
     "name": "stdout",
     "output_type": "stream",
     "text": [
      "Updated dict: {'name': 'Alice', 'age': 26, 'city': 'New York', 'email': 'alice@example.com'}\n"
     ]
    }
   ],
   "source": [
    "# Adding / Updating Items\n",
    "my_dict[\"email\"] = \"alice@example.com\"  # add\n",
    "my_dict[\"age\"] = 26                     # update\n",
    "print(\"Updated dict:\", my_dict)\n"
   ]
  },
  {
   "cell_type": "code",
   "execution_count": 17,
   "id": "2a854c1c",
   "metadata": {},
   "outputs": [
    {
     "name": "stdout",
     "output_type": "stream",
     "text": [
      "After pop: {'name': 'Alice', 'age': 26, 'email': 'alice@example.com'}\n",
      "After del: {'name': 'Alice', 'age': 26}\n"
     ]
    }
   ],
   "source": [
    "# Removing Items\n",
    "\n",
    "my_dict.pop(\"city\")\n",
    "print(\"After pop:\", my_dict)\n",
    "\n",
    "del my_dict[\"email\"]\n",
    "print(\"After del:\", my_dict)\n",
    "\n",
    "# my_dict.clear()\n",
    "# print(\"After clear:\", my_dict)\n"
   ]
  },
  {
   "cell_type": "code",
   "execution_count": 20,
   "id": "161728e4",
   "metadata": {},
   "outputs": [
    {
     "name": "stdout",
     "output_type": "stream",
     "text": [
      "Name: Alice\n",
      "Using get(): 26\n",
      "Using get(): Not found\n"
     ]
    }
   ],
   "source": [
    "# Accessing Items\n",
    "print(\"Name:\", my_dict[\"name\"])\n",
    "print(\"Using get():\", my_dict.get(\"age\", \"Not found\"))\n",
    "print(\"Using get():\", my_dict.get(\"email\", \"Not found\"))"
   ]
  },
  {
   "cell_type": "code",
   "execution_count": 21,
   "id": "6f0856ae",
   "metadata": {},
   "outputs": [
    {
     "name": "stdout",
     "output_type": "stream",
     "text": [
      "name -> Alice\n",
      "age -> 26\n"
     ]
    }
   ],
   "source": [
    "# loop\n",
    "for key, value in my_dict.items():\n",
    "    print(f\"{key} -> {value}\")\n"
   ]
  },
  {
   "cell_type": "code",
   "execution_count": 22,
   "id": "81b08662",
   "metadata": {},
   "outputs": [
    {
     "name": "stdout",
     "output_type": "stream",
     "text": [
      "user1 → Alice\n",
      "user4 → Anna\n"
     ]
    }
   ],
   "source": [
    "users = {\n",
    "    \"user1\": {\"name\": \"Alice\", \"age\": 25},\n",
    "    \"user2\": {\"name\": \"Bob\", \"age\": 30},\n",
    "    \"user3\": {\"name\": \"Charlie\", \"age\": 28},\n",
    "    \"user4\": {\"name\": \"Anna\", \"age\": 22}\n",
    "}\n",
    "\n",
    "\n",
    "for uid, details in users.items():\n",
    "    if details[\"name\"].startswith(\"A\"):\n",
    "        print(f\"{uid} → {details['name']}\")\n",
    "\n",
    "        "
   ]
  },
  {
   "cell_type": "code",
   "execution_count": 24,
   "id": "8f86ec27",
   "metadata": {},
   "outputs": [
    {
     "name": "stdout",
     "output_type": "stream",
     "text": [
      "{'user1.name': 'Alice', 'user1.age': 25, 'user2.name': 'Bob', 'user2.age': 30, 'user3.name': 'Charlie', 'user3.age': 28, 'user4.name': 'Anna', 'user4.age': 22}\n"
     ]
    }
   ],
   "source": [
    "flattened = {}\n",
    "for outer_key, inner_dict in users.items():\n",
    "    for inner_key, value in inner_dict.items():\n",
    "        flattened[f\"{outer_key}.{inner_key}\"] = value\n",
    "\n",
    "print(flattened)"
   ]
  },
  {
   "cell_type": "code",
   "execution_count": null,
   "id": "1c7e7855",
   "metadata": {},
   "outputs": [],
   "source": []
  },
  {
   "cell_type": "code",
   "execution_count": null,
   "id": "136222d9",
   "metadata": {},
   "outputs": [],
   "source": []
  },
  {
   "cell_type": "markdown",
   "id": "f3473b7d",
   "metadata": {},
   "source": [
    "# set "
   ]
  },
  {
   "cell_type": "markdown",
   "id": "dcac341b",
   "metadata": {},
   "source": [
    "#### set – Unordered, Unique Elements\n",
    "\n",
    "✅ Key Properties:\n",
    "- No duplicates allowed.\n",
    "\n",
    "- Unordered collection.\n",
    "\n",
    "- Fast membership testing (x in s) — O(1) on average.\n",
    "\n",
    "- Mutable (supports add/remove), but elements must be hashable.\n",
    "\n",
    "✅ Interview Importance:\n",
    "- Used for problems involving uniqueness, intersection, difference, etc.\n",
    "\n",
    "- Know set operations: union, intersection, difference, symmetric_difference."
   ]
  },
  {
   "cell_type": "code",
   "execution_count": 25,
   "id": "7be0943f",
   "metadata": {},
   "outputs": [
    {
     "name": "stdout",
     "output_type": "stream",
     "text": [
      "Set: {1, 2, 3, 4}\n"
     ]
    }
   ],
   "source": [
    "my_set = {1, 2, 3, 4}\n",
    "empty_set = set()\n",
    "print(\"Set:\", my_set)\n"
   ]
  },
  {
   "cell_type": "code",
   "execution_count": 26,
   "id": "32c51270",
   "metadata": {},
   "outputs": [
    {
     "name": "stdout",
     "output_type": "stream",
     "text": [
      "After add: {1, 2, 3, 4, 5}\n",
      "After update: {1, 2, 3, 4, 5, 6, 7}\n"
     ]
    }
   ],
   "source": [
    "my_set.add(5)\n",
    "print(\"After add:\", my_set)\n",
    "\n",
    "my_set.update([6, 7])\n",
    "print(\"After update:\", my_set)\n"
   ]
  },
  {
   "cell_type": "code",
   "execution_count": 27,
   "id": "d8852248",
   "metadata": {},
   "outputs": [
    {
     "name": "stdout",
     "output_type": "stream",
     "text": [
      "After remove/discard: {1, 2, 4, 5, 6, 7}\n"
     ]
    }
   ],
   "source": [
    "my_set.remove(3)       # Raises error if not found\n",
    "my_set.discard(10)     # Safe remove (no error)\n",
    "print(\"After remove/discard:\", my_set)\n",
    "\n",
    "# my_set.clear()\n",
    "# print(\"After clear:\", my_set)\n"
   ]
  },
  {
   "cell_type": "code",
   "execution_count": 28,
   "id": "0678c7e9",
   "metadata": {},
   "outputs": [
    {
     "name": "stdout",
     "output_type": "stream",
     "text": [
      "Union: {1, 2, 3, 4, 5}\n",
      "Intersection: {3}\n",
      "Difference: {1, 2}\n",
      "Symmetric Diff: {1, 2, 4, 5}\n"
     ]
    }
   ],
   "source": [
    "a = {1, 2, 3}\n",
    "b = {3, 4, 5}\n",
    "\n",
    "print(\"Union:\", a | b)\n",
    "print(\"Intersection:\", a & b)\n",
    "print(\"Difference:\", a - b)\n",
    "print(\"Symmetric Diff:\", a ^ b)\n"
   ]
  },
  {
   "cell_type": "code",
   "execution_count": null,
   "id": "6f6d07d8",
   "metadata": {},
   "outputs": [],
   "source": []
  },
  {
   "cell_type": "code",
   "execution_count": null,
   "id": "5b754375",
   "metadata": {},
   "outputs": [],
   "source": []
  },
  {
   "cell_type": "markdown",
   "id": "1271938e",
   "metadata": {},
   "source": [
    "# Tuple "
   ]
  },
  {
   "cell_type": "markdown",
   "id": "134be09e",
   "metadata": {},
   "source": [
    "📂 3. tuple – Ordered, Immutable Sequence\n",
    "\n",
    "✅ Key Properties:\n",
    "- Like a list, but immutable.\n",
    "\n",
    "- Can be used as keys in dictionaries (if elements are also hashable).\n",
    "\n",
    "- Supports unpacking: a, b = (1, 2)\n",
    "\n",
    "✅ Interview Importance:\n",
    "- Safe for storing fixed collections.\n",
    "\n",
    "- Useful for returning multiple values from functions.\n",
    "\n",
    "- Be ready to explain why immutability matters."
   ]
  },
  {
   "cell_type": "code",
   "execution_count": null,
   "id": "13f3e6d4",
   "metadata": {},
   "outputs": [],
   "source": []
  },
  {
   "cell_type": "code",
   "execution_count": 29,
   "id": "262bbc71",
   "metadata": {},
   "outputs": [
    {
     "name": "stdout",
     "output_type": "stream",
     "text": [
      "Tuple: (1, 2, 3)\n"
     ]
    }
   ],
   "source": [
    "my_tuple = (1, 2, 3)\n",
    "single = (5,)\n",
    "empty = ()\n",
    "print(\"Tuple:\", my_tuple)\n"
   ]
  },
  {
   "cell_type": "code",
   "execution_count": 30,
   "id": "6d7c736e",
   "metadata": {},
   "outputs": [
    {
     "name": "stdout",
     "output_type": "stream",
     "text": [
      "First item: 1\n",
      "Slice: (2, 3)\n"
     ]
    }
   ],
   "source": [
    "print(\"First item:\", my_tuple[0])\n",
    "print(\"Slice:\", my_tuple[1:])\n"
   ]
  },
  {
   "cell_type": "code",
   "execution_count": 31,
   "id": "304bd78f",
   "metadata": {},
   "outputs": [
    {
     "ename": "TypeError",
     "evalue": "'tuple' object does not support item assignment",
     "output_type": "error",
     "traceback": [
      "\u001b[1;31m---------------------------------------------------------------------------\u001b[0m",
      "\u001b[1;31mTypeError\u001b[0m                                 Traceback (most recent call last)",
      "Cell \u001b[1;32mIn[31], line 1\u001b[0m\n\u001b[1;32m----> 1\u001b[0m my_tuple[\u001b[38;5;241m0\u001b[39m] \u001b[38;5;241m=\u001b[39m \u001b[38;5;241m10\u001b[39m\n",
      "\u001b[1;31mTypeError\u001b[0m: 'tuple' object does not support item assignment"
     ]
    }
   ],
   "source": [
    "my_tuple[0] = 10  # ❌ Error: Tuples are immutable\n"
   ]
  },
  {
   "cell_type": "code",
   "execution_count": 32,
   "id": "1efe64a0",
   "metadata": {},
   "outputs": [
    {
     "name": "stdout",
     "output_type": "stream",
     "text": [
      "Item: 1\n",
      "Item: 2\n",
      "Item: 3\n"
     ]
    }
   ],
   "source": [
    "for item in my_tuple:\n",
    "    print(\"Item:\", item)\n"
   ]
  },
  {
   "cell_type": "code",
   "execution_count": null,
   "id": "6a15a648",
   "metadata": {},
   "outputs": [],
   "source": []
  },
  {
   "cell_type": "markdown",
   "id": "d8bb5ed3",
   "metadata": {},
   "source": [
    "# 🧠 Summary Table"
   ]
  },
  {
   "cell_type": "markdown",
   "id": "d01ae24c",
   "metadata": {},
   "source": [
    "| Type  | Ordered | Mutable | Allows Duplicates | Hashable | Use Case                          |\n",
    "|-------|---------|---------|-------------------|----------|-----------------------------------|\n",
    "| list  | ✅ Yes  | ✅ Yes  | ✅ Yes            | ❌ No    | General-purpose sequences         |\n",
    "| tuple | ✅ Yes  | ❌ No   | ✅ Yes            | ✅ Yes  | Fixed data, keys in dict          |\n",
    "| set   | ❌ No   | ✅ Yes  | ❌ No             | ❌ No    | Unique items, fast membership     |\n",
    "| dict  | ✅ Yes* | ✅ Yes  | N/A               | ❌ No    | Key-value storage, fast lookup    |\n"
   ]
  },
  {
   "cell_type": "code",
   "execution_count": null,
   "id": "703c17d5",
   "metadata": {},
   "outputs": [],
   "source": []
  }
 ],
 "metadata": {
  "kernelspec": {
   "display_name": "Python 3 (ipykernel)",
   "language": "python",
   "name": "python3"
  },
  "language_info": {
   "codemirror_mode": {
    "name": "ipython",
    "version": 3
   },
   "file_extension": ".py",
   "mimetype": "text/x-python",
   "name": "python",
   "nbconvert_exporter": "python",
   "pygments_lexer": "ipython3",
   "version": "3.11.4"
  }
 },
 "nbformat": 4,
 "nbformat_minor": 5
}
