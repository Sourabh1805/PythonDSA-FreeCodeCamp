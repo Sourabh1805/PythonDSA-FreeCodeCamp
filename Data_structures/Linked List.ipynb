{
 "cells": [
  {
   "cell_type": "markdown",
   "id": "927bcacc",
   "metadata": {},
   "source": [
    "A Linked List is a type of data structure where elements (called nodes) are connected using pointers, not stored next to each other in memory.\n",
    "\n",
    "- Linner data structure\n",
    "\n",
    "- Collection of nodes\n",
    "\n",
    "- Alternative of Array\n",
    "\n",
    "- Each node has two parts:\n",
    "\n",
    "- Data – the value stored.\n",
    "\n",
    "- Next – a pointer/reference to the next node."
   ]
  },
  {
   "cell_type": "markdown",
   "id": "6a8246ce",
   "metadata": {},
   "source": [
    "[Data | Next] → [Data | Next] → [Data | Next] → None\n"
   ]
  },
  {
   "cell_type": "markdown",
   "id": "31807cb0",
   "metadata": {},
   "source": [
    "### Key Features:\n",
    "- Dynamic size (can grow/shrink easily)\n",
    "\n",
    "- Efficient insertions/deletions\n",
    "\n",
    "- Slower access (no direct indexing like lists)"
   ]
  },
  {
   "cell_type": "markdown",
   "id": "0f7320cd",
   "metadata": {},
   "source": [
    "## 🔗 Types of Linked Lists\n",
    "\n",
    "| Type               | Description                          |\n",
    "|--------------------|--------------------------------------|\n",
    "| Singly Linked List | Each node points to the next only    |\n",
    "| Doubly Linked List | Each node points to both next and previous |\n",
    "| Circular Linked List | Last node points to the head         |\n"
   ]
  },
  {
   "cell_type": "markdown",
   "id": "30f63804",
   "metadata": {},
   "source": [
    "### 1. Singly Linked List\n",
    "Each node points to the next only.\n",
    "\n",
    "[1] → [2] → [3] → [4] → null\n",
    "\n",
    "\n",
    "\n",
    "\n",
    "\n"
   ]
  },
  {
   "cell_type": "code",
   "execution_count": 3,
   "id": "f27225f2",
   "metadata": {},
   "outputs": [],
   "source": [
    "class Node:\n",
    "    def __init__(self, data):\n",
    "        self.data = data\n",
    "        self.next = None  # Pointer to the next node"
   ]
  },
  {
   "cell_type": "markdown",
   "id": "93036b9d",
   "metadata": {},
   "source": [
    "### 2. Doubly Linked List\n",
    "\n",
    "Each node points to both next and previous.\n",
    "\n",
    "null ← [1] ⇄ [2] ⇄ [3] ⇄ [4] → null"
   ]
  },
  {
   "cell_type": "code",
   "execution_count": 5,
   "id": "62080411",
   "metadata": {},
   "outputs": [],
   "source": [
    "class DNode:\n",
    "    def __init__(self, data):\n",
    "        self.data = data\n",
    "        self.prev = None\n",
    "        self.next = None\n"
   ]
  },
  {
   "cell_type": "markdown",
   "id": "d57caa3c",
   "metadata": {},
   "source": [
    "### 3. Circular Linked List\n",
    "The last node points back to the head.\n",
    "\n",
    "[1] → [2] → [3] → [4] \n",
    "\n",
    "↑───────────┘"
   ]
  },
  {
   "cell_type": "code",
   "execution_count": null,
   "id": "76fa7156",
   "metadata": {},
   "outputs": [],
   "source": [
    "\n",
    "\n"
   ]
  },
  {
   "cell_type": "markdown",
   "id": "052c355e",
   "metadata": {},
   "source": [
    "# Singly Linked List in Python"
   ]
  },
  {
   "cell_type": "code",
   "execution_count": 6,
   "id": "1d7577d0",
   "metadata": {},
   "outputs": [],
   "source": [
    "class Node:\n",
    "    def __init__(self, data):\n",
    "        self.data = data\n",
    "        self.next = None  # Pointer to the next node\n",
    "\n",
    "class LinkedList:\n",
    "    def __init__(self):\n",
    "        self.head = None  # Start of the list\n",
    "\n",
    "    def append(self, data):\n",
    "        new_node = Node(data)\n",
    "        if not self.head:\n",
    "            self.head = new_node\n",
    "            return\n",
    "        curr = self.head\n",
    "        while curr.next:\n",
    "            curr = curr.next\n",
    "        curr.next = new_node\n",
    "\n",
    "    def display(self):\n",
    "        curr = self.head\n",
    "        while curr:\n",
    "            print(curr.data, end=\" -> \")\n",
    "            curr = curr.next\n",
    "        print(\"None\")\n"
   ]
  },
  {
   "cell_type": "code",
   "execution_count": 7,
   "id": "52676a9b",
   "metadata": {},
   "outputs": [
    {
     "name": "stdout",
     "output_type": "stream",
     "text": [
      "1 -> 2 -> 3 -> None\n"
     ]
    }
   ],
   "source": [
    "ll = LinkedList()\n",
    "ll.append(1)\n",
    "ll.append(2)\n",
    "ll.append(3)\n",
    "ll.display()  # Output: 1 -> 2 -> 3 -> None\n"
   ]
  },
  {
   "cell_type": "markdown",
   "id": "c5f0e954",
   "metadata": {},
   "source": [
    "## 🧠 Python List vs Linked List \n",
    "\n",
    "| Feature                  | Python List (`list`)             | Linked List (Custom)             |\n",
    "|--------------------------|----------------------------------|----------------------------------|\n",
    "| **Built-in Support**     | ✅ Yes (native)                   | ❌ No (needs implementation)     |\n",
    "| **Underlying Structure** | Dynamic array                    | Nodes with pointers              |\n",
    "| **Memory Layout**        | Contiguous memory                | Scattered (non-contiguous)       |\n",
    "| **Cache Performance**    | ✅ Good (due to locality)         | ❌ Poor (pointer chasing)         |\n",
    "| **Access Time**          | O(1) random access               | O(n) for index-based access      |\n",
    "| **Insertion (Middle)**   | O(n)                             | O(1) if pointer is known         |\n",
    "| **Deletion (Middle)**    | O(n)                             | O(1) if pointer is known         |\n",
    "| **Append/Push Back**     | O(1) amortized                   | O(n) without tail pointer        |\n",
    "| **Prepend/Push Front**   | O(n)                             | O(1)                              |\n",
    "| **Memory Overhead**      | Low                              | High (extra pointers per node)   |\n",
    "| **Built-in Methods**     | Many (`.append()`, `.pop()`, etc.) | None — must be implemented      |\n",
    "| **Thread Safety**        | ❌ Not thread-safe (needs locking) | ❌ Not thread-safe (custom locking) |\n",
    "| **Use Cases**            | General-purpose collections      | Queues, stacks, custom memory structures |\n",
    "| **Garbage Collection**   | Automatic                        | Automatic (but cycles need care) |\n",
    "\n"
   ]
  },
  {
   "cell_type": "code",
   "execution_count": null,
   "id": "a80c3759",
   "metadata": {},
   "outputs": [],
   "source": []
  }
 ],
 "metadata": {
  "kernelspec": {
   "display_name": "Python 3 (ipykernel)",
   "language": "python",
   "name": "python3"
  },
  "language_info": {
   "codemirror_mode": {
    "name": "ipython",
    "version": 3
   },
   "file_extension": ".py",
   "mimetype": "text/x-python",
   "name": "python",
   "nbconvert_exporter": "python",
   "pygments_lexer": "ipython3",
   "version": "3.11.4"
  }
 },
 "nbformat": 4,
 "nbformat_minor": 5
}
