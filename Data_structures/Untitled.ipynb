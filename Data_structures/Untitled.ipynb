{
 "cells": [
  {
   "cell_type": "markdown",
   "id": "09cedebb",
   "metadata": {},
   "source": [
    "# Big O"
   ]
  },
  {
   "cell_type": "markdown",
   "id": "0de676b6",
   "metadata": {},
   "source": [
    "#### Big O notation is used to measure how running time or space reuirements for your program grows as input size grows"
   ]
  },
  {
   "cell_type": "markdown",
   "id": "26786d0e",
   "metadata": {},
   "source": [
    "| Big O     | Name              | Example                                 |\n",
    "|-----------|-------------------|-----------------------------------------|\n",
    "| O(1)      | Constant time     | Accessing an array element `arr[i]`     |\n",
    "| O(log n)  | Logarithmic time  | Binary search                           |\n",
    "| O(n)      | Linear time       | Iterating through an array              |\n",
    "| O(n log n)| Linearithmic time | Merge sort, quicksort (average case)    |\n",
    "| O(n²)     | Quadratic time    | Nested loops (e.g., bubble sort)        |\n",
    "| O(2ⁿ)     | Exponential time  | Recursive Fibonacci, backtracking       |\n",
    "| O(n!)     | Factorial time    | Solving the traveling salesman problem  |\n"
   ]
  },
  {
   "cell_type": "markdown",
   "id": "ec95d0d3",
   "metadata": {},
   "source": [
    "![bigO](img/bigo.png)\n"
   ]
  },
  {
   "cell_type": "markdown",
   "id": "c3c7b1aa",
   "metadata": {},
   "source": [
    "![BigoGraph](img/bigograph.png)"
   ]
  },
  {
   "cell_type": "markdown",
   "id": "45915a76",
   "metadata": {},
   "source": [
    "# Datastructures"
   ]
  },
  {
   "cell_type": "markdown",
   "id": "b3c74a14",
   "metadata": {},
   "source": [
    "## 🧱 Built-in Python Data Structures\n",
    "\n",
    "| Structure | Description                         | Mutable | Example                                | Common Use Cases                        |\n",
    "|-----------|-------------------------------------|---------|----------------------------------------|-----------------------------------------|\n",
    "| List      | Ordered, dynamic array of items     | ✅      | `fruits = ['apple', 'banana', 'cherry']` | Collections, stacks, queues             |\n",
    "| Tuple     | Ordered, immutable sequence         | ❌      | `point = (2, 3)`                        | Fixed data, function returns            |\n",
    "| Set       | Unordered collection of unique elements | ✅   | `unique_numbers = {1, 2, 3}`            | Fast membership test, removing dupes    |\n",
    "| Dict      | Key-value pairs (hash map)          | ✅      | `person = {'name': 'Alice', 'age': 30}` | Fast lookup, config/settings storage    |\n",
    "| String    | Immutable text sequences            | ❌      | `greeting = \"Hello\"`                   | Text processing, data parsing           |\n"
   ]
  },
  {
   "cell_type": "markdown",
   "id": "a2c41dcc",
   "metadata": {},
   "source": [
    "### 🔁 Mutable Types\n",
    "You can change the content without changing the object’s identity (`id()`):\n",
    "\n",
    "**Common mutable types:**\n",
    "- `list`\n",
    "- `dict`\n",
    "- `set`\n",
    "- `bytearray`\n",
    "\n",
    "---\n",
    "\n",
    "### 🔒 Immutable Types\n",
    "You can’t change them directly — any modification creates a new object:\n",
    "\n",
    "**Common immutable types:**\n",
    "- `int`\n",
    "- `float`\n",
    "- `str`\n",
    "- `tuple`\n",
    "- `frozenset`\n",
    "- `bytes`\n"
   ]
  },
  {
   "cell_type": "code",
   "execution_count": 2,
   "id": "6a5a252b",
   "metadata": {},
   "outputs": [
    {
     "name": "stdout",
     "output_type": "stream",
     "text": [
      "hello world\n"
     ]
    }
   ],
   "source": [
    "x = \"hello\"\n",
    "x += \" world\"\n",
    "print(x)  # 'hello world'\n"
   ]
  },
  {
   "cell_type": "code",
   "execution_count": 3,
   "id": "2bec5029",
   "metadata": {},
   "outputs": [
    {
     "name": "stdout",
     "output_type": "stream",
     "text": [
      "2709313973872\n",
      "hello world\n",
      "2709334855600\n"
     ]
    }
   ],
   "source": [
    "x = \"hello\"\n",
    "print(id(x)) \n",
    "\n",
    "x += \" world\"  # This creates a NEW string\n",
    "print(x)       # 'hello world'\n",
    "print(id(x))  \n"
   ]
  },
  {
   "cell_type": "markdown",
   "id": "3e25bc21",
   "metadata": {},
   "source": [
    "## List"
   ]
  },
  {
   "cell_type": "code",
   "execution_count": 8,
   "id": "84ea2ff6",
   "metadata": {},
   "outputs": [],
   "source": [
    "empty_list = []\n",
    "my_list = [1, 2, 3, 4]\n",
    "matrix = [[1, 2], [3, 4]]\n",
    "mixed = [1, \"two\", 3.0, [4, 5]]\n"
   ]
  },
  {
   "cell_type": "markdown",
   "id": "cfcdd581",
   "metadata": {},
   "source": [
    "#### Python lists are dynamic. 🎯\n",
    "    \n",
    "    That means:\n",
    "\n",
    "- You don’t need to declare a fixed size when creating a list.\n",
    "\n",
    "- They automatically grow or shrink as you add or remove elements."
   ]
  },
  {
   "cell_type": "code",
   "execution_count": 10,
   "id": "b87e0109",
   "metadata": {},
   "outputs": [
    {
     "name": "stdout",
     "output_type": "stream",
     "text": [
      "2709335362624\n",
      "2709335362624\n",
      "2709335362624\n"
     ]
    }
   ],
   "source": [
    "my_list = [1, 2, 3]\n",
    "print(id(my_list))\n",
    "my_list.append(4)          # ➜ [1, 2, 3, 4]\n",
    "print(id(my_list))\n",
    "my_list.extend([5, 6])     # ➜ [1, 2, 3, 4, 5, 6]\n",
    "my_list.pop()              # ➜ [1, 2, 3, 4, 5]"
   ]
  },
  {
   "cell_type": "code",
   "execution_count": 27,
   "id": "f9d05de2",
   "metadata": {},
   "outputs": [
    {
     "name": "stdout",
     "output_type": "stream",
     "text": [
      "Length: 1, Size in bytes: 88\n",
      "Length: 2, Size in bytes: 88\n",
      "Length: 3, Size in bytes: 88\n",
      "Length: 4, Size in bytes: 88\n",
      "Length: 5, Size in bytes: 120\n",
      "Length: 6, Size in bytes: 120\n",
      "Length: 7, Size in bytes: 120\n",
      "Length: 8, Size in bytes: 120\n",
      "Length: 9, Size in bytes: 184\n",
      "Length: 10, Size in bytes: 184\n"
     ]
    }
   ],
   "source": [
    "import sys\n",
    "\n",
    "lst = []\n",
    "for i in range(10):\n",
    "    lst.append(i)\n",
    "    print(f\"Length: {len(lst)}, Size in bytes: {sys.getsizeof(lst)}\")\n"
   ]
  },
  {
   "cell_type": "markdown",
   "id": "9a9c20de",
   "metadata": {},
   "source": [
    "## Ndarry"
   ]
  },
  {
   "cell_type": "markdown",
   "id": "ea2e856a",
   "metadata": {},
   "source": [
    "A numpy.ndarray (n-dimensional array) is a homogeneous, multi-dimensional array — meaning all elements are of the same data type, and it's optimized for speed and efficiency."
   ]
  },
  {
   "cell_type": "markdown",
   "id": "d09934da",
   "metadata": {},
   "source": [
    "| Feature              | Description                                                                 |\n",
    "|----------------------|-----------------------------------------------------------------------------|\n",
    "| Homogeneous data     | All elements have the same type (e.g. int32, float64)                       |\n",
    "| Fixed size           | Once created, the shape doesn’t change (unlike lists)                      |\n",
    "| Vectorized operations| Apply operations to entire arrays without loops                             |\n",
    "| Memory efficient     | More compact than Python lists                                              |\n",
    "| Multi-dimensional    | Supports 1D, 2D, 3D... nD arrays (e.g. matrices, tensors)                    |\n"
   ]
  },
  {
   "cell_type": "markdown",
   "id": "446be32d",
   "metadata": {},
   "source": [
    "## ⚡ Why Use `ndarray` over Python `list`?\n",
    "\n",
    "| Operation           | list (Python)     | ndarray (NumPy)   |\n",
    "|---------------------|-------------------|-------------------|\n",
    "| Element-wise math   | ❌ Needs loops     | ✅ Fast & easy     |\n",
    "| Memory usage        | ❌ Higher          | ✅ Lower           |\n",
    "| Speed               | ❌ Slower          | ✅ Much faster     |\n",
    "| Broadcasting        | ❌ No              | ✅ Yes             |\n"
   ]
  },
  {
   "cell_type": "markdown",
   "id": "baeb65a1",
   "metadata": {},
   "source": [
    "###  Example: Multiply Each Element by 2"
   ]
  },
  {
   "cell_type": "code",
   "execution_count": 29,
   "id": "ed39a3b8",
   "metadata": {},
   "outputs": [
    {
     "name": "stdout",
     "output_type": "stream",
     "text": [
      "[2, 4, 6, 8, 10]\n",
      "[ 2  4  6  8 10]\n"
     ]
    }
   ],
   "source": [
    "my_list = [1, 2, 3, 4, 5]\n",
    "doubled = [x * 2 for x in my_list]\n",
    "\n",
    "print(doubled)  # Output: [2, 4, 6, 8, 10]\n",
    "\n",
    "\n",
    "import numpy as np\n",
    "\n",
    "my_array = np.array([1, 2, 3, 4, 5])\n",
    "doubled = my_array * 2\n",
    "\n",
    "print(doubled)  # Output: [ 2  4  6  8 10]\n"
   ]
  },
  {
   "cell_type": "code",
   "execution_count": null,
   "id": "e3459a01",
   "metadata": {},
   "outputs": [],
   "source": []
  }
 ],
 "metadata": {
  "kernelspec": {
   "display_name": "Python 3 (ipykernel)",
   "language": "python",
   "name": "python3"
  },
  "language_info": {
   "codemirror_mode": {
    "name": "ipython",
    "version": 3
   },
   "file_extension": ".py",
   "mimetype": "text/x-python",
   "name": "python",
   "nbconvert_exporter": "python",
   "pygments_lexer": "ipython3",
   "version": "3.11.4"
  }
 },
 "nbformat": 4,
 "nbformat_minor": 5
}
