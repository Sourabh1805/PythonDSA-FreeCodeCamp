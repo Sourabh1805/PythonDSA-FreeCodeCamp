{
 "cells": [
  {
   "cell_type": "markdown",
   "id": "745f5553",
   "metadata": {},
   "source": [
    "# Big O"
   ]
  },
  {
   "cell_type": "markdown",
   "id": "0a4c1dbe",
   "metadata": {},
   "source": [
    "#### Big O notation is used to measure how running time or space reuirements for your program grows as input size grows"
   ]
  },
  {
   "cell_type": "markdown",
   "id": "ea816034",
   "metadata": {},
   "source": [
    "| Big O     | Name              | Example                                 |\n",
    "|-----------|-------------------|-----------------------------------------|\n",
    "| O(1)      | Constant time     | Accessing an array element `arr[i]`     |\n",
    "| O(log n)  | Logarithmic time  | Binary search                           |\n",
    "| O(n)      | Linear time       | Iterating through an array              |\n",
    "| O(n log n)| Linearithmic time | Merge sort, quicksort (average case)    |\n",
    "| O(n²)     | Quadratic time    | Nested loops (e.g., bubble sort)        |\n",
    "| O(2ⁿ)     | Exponential time  | Recursive Fibonacci, backtracking       |\n",
    "| O(n!)     | Factorial time    | Solving the traveling salesman problem  |\n"
   ]
  },
  {
   "cell_type": "markdown",
   "id": "dde1aad2",
   "metadata": {},
   "source": [
    "![bigO](img/bigo.png)\n"
   ]
  },
  {
   "cell_type": "markdown",
   "id": "1c7206c7",
   "metadata": {},
   "source": [
    "![BigoGraph](img/bigograph.png)"
   ]
  },
  {
   "cell_type": "markdown",
   "id": "949dda27",
   "metadata": {},
   "source": [
    "# Datastructures"
   ]
  },
  {
   "cell_type": "markdown",
   "id": "5dc3285c",
   "metadata": {},
   "source": [
    "## 🧱 Built-in Python Data Structures\n",
    "\n",
    "| Structure | Description                         | Mutable | Example                                | Common Use Cases                        |\n",
    "|-----------|-------------------------------------|---------|----------------------------------------|-----------------------------------------|\n",
    "| List      | Ordered, dynamic array of items     | ✅      | `fruits = ['apple', 'banana', 'cherry']` | Collections, stacks, queues             |\n",
    "| Tuple     | Ordered, immutable sequence         | ❌      | `point = (2, 3)`                        | Fixed data, function returns            |\n",
    "| Set       | Unordered collection of unique elements | ✅   | `unique_numbers = {1, 2, 3}`            | Fast membership test, removing dupes    |\n",
    "| Dict      | Key-value pairs (hash map)          | ✅      | `person = {'name': 'Alice', 'age': 30}` | Fast lookup, config/settings storage    |\n",
    "| String    | Immutable text sequences            | ❌      | `greeting = \"Hello\"`                   | Text processing, data parsing           |\n"
   ]
  },
  {
   "cell_type": "markdown",
   "id": "f3c73cd2",
   "metadata": {},
   "source": [
    "### 🔁 Mutable Types\n",
    "You can change the content without changing the object’s identity (`id()`):\n",
    "\n",
    "**Common mutable types:**\n",
    "- `list`\n",
    "- `dict`\n",
    "- `set`\n",
    "- `bytearray`\n",
    "\n",
    "---\n",
    "\n",
    "### 🔒 Immutable Types\n",
    "You can’t change them directly — any modification creates a new object:\n",
    "\n",
    "**Common immutable types:**\n",
    "- `int`\n",
    "- `float`\n",
    "- `str`\n",
    "- `tuple`\n",
    "- `frozenset`\n",
    "- `bytes`\n"
   ]
  },
  {
   "cell_type": "code",
   "execution_count": 2,
   "id": "5172e235",
   "metadata": {},
   "outputs": [
    {
     "name": "stdout",
     "output_type": "stream",
     "text": [
      "hello world\n"
     ]
    }
   ],
   "source": [
    "x = \"hello\"\n",
    "x += \" world\"\n",
    "print(x)  # 'hello world'\n"
   ]
  },
  {
   "cell_type": "code",
   "execution_count": 3,
   "id": "681b4620",
   "metadata": {},
   "outputs": [
    {
     "name": "stdout",
     "output_type": "stream",
     "text": [
      "2709313973872\n",
      "hello world\n",
      "2709334855600\n"
     ]
    }
   ],
   "source": [
    "x = \"hello\"\n",
    "print(id(x)) \n",
    "\n",
    "x += \" world\"  # This creates a NEW string\n",
    "print(x)       # 'hello world'\n",
    "print(id(x))  \n"
   ]
  },
  {
   "cell_type": "markdown",
   "id": "9842a9bf",
   "metadata": {},
   "source": [
    "## List"
   ]
  },
  {
   "cell_type": "code",
   "execution_count": 8,
   "id": "16d528c0",
   "metadata": {},
   "outputs": [],
   "source": [
    "empty_list = []\n",
    "my_list = [1, 2, 3, 4]\n",
    "matrix = [[1, 2], [3, 4]]\n",
    "mixed = [1, \"two\", 3.0, [4, 5]]\n"
   ]
  },
  {
   "cell_type": "markdown",
   "id": "3d2c3ddd",
   "metadata": {},
   "source": [
    "#### Python lists are dynamic. 🎯\n",
    "    \n",
    "    That means:\n",
    "\n",
    "- You don’t need to declare a fixed size when creating a list.\n",
    "\n",
    "- They automatically grow or shrink as you add or remove elements."
   ]
  },
  {
   "cell_type": "code",
   "execution_count": 10,
   "id": "32ed4f15",
   "metadata": {},
   "outputs": [
    {
     "name": "stdout",
     "output_type": "stream",
     "text": [
      "2709335362624\n",
      "2709335362624\n",
      "2709335362624\n"
     ]
    }
   ],
   "source": [
    "my_list = [1, 2, 3]\n",
    "print(id(my_list))\n",
    "my_list.append(4)          # ➜ [1, 2, 3, 4]\n",
    "print(id(my_list))\n",
    "my_list.extend([5, 6])     # ➜ [1, 2, 3, 4, 5, 6]\n",
    "my_list.pop()              # ➜ [1, 2, 3, 4, 5]"
   ]
  },
  {
   "cell_type": "code",
   "execution_count": 27,
   "id": "ac1dcaed",
   "metadata": {},
   "outputs": [
    {
     "name": "stdout",
     "output_type": "stream",
     "text": [
      "Length: 1, Size in bytes: 88\n",
      "Length: 2, Size in bytes: 88\n",
      "Length: 3, Size in bytes: 88\n",
      "Length: 4, Size in bytes: 88\n",
      "Length: 5, Size in bytes: 120\n",
      "Length: 6, Size in bytes: 120\n",
      "Length: 7, Size in bytes: 120\n",
      "Length: 8, Size in bytes: 120\n",
      "Length: 9, Size in bytes: 184\n",
      "Length: 10, Size in bytes: 184\n"
     ]
    }
   ],
   "source": [
    "import sys\n",
    "\n",
    "lst = []\n",
    "for i in range(10):\n",
    "    lst.append(i)\n",
    "    print(f\"Length: {len(lst)}, Size in bytes: {sys.getsizeof(lst)}\")\n"
   ]
  },
  {
   "cell_type": "markdown",
   "id": "4a973504",
   "metadata": {},
   "source": [
    "## Ndarry"
   ]
  },
  {
   "cell_type": "markdown",
   "id": "faf58635",
   "metadata": {},
   "source": [
    "A numpy.ndarray (n-dimensional array) is a homogeneous, multi-dimensional array — meaning all elements are of the same data type, and it's optimized for speed and efficiency."
   ]
  },
  {
   "cell_type": "markdown",
   "id": "08af54bf",
   "metadata": {},
   "source": [
    "| Feature              | Description                                                                 |\n",
    "|----------------------|-----------------------------------------------------------------------------|\n",
    "| Homogeneous data     | All elements have the same type (e.g. int32, float64)                       |\n",
    "| Fixed size           | Once created, the shape doesn’t change (unlike lists)                      |\n",
    "| Vectorized operations| Apply operations to entire arrays without loops                             |\n",
    "| Memory efficient     | More compact than Python lists                                              |\n",
    "| Multi-dimensional    | Supports 1D, 2D, 3D... nD arrays (e.g. matrices, tensors)                    |\n"
   ]
  },
  {
   "cell_type": "markdown",
   "id": "c7a9eb43",
   "metadata": {},
   "source": [
    "## ⚡ Why Use `ndarray` over Python `list`?\n",
    "\n",
    "| Operation           | list (Python)     | ndarray (NumPy)   |\n",
    "|---------------------|-------------------|-------------------|\n",
    "| Element-wise math   | ❌ Needs loops     | ✅ Fast & easy     |\n",
    "| Memory usage        | ❌ Higher          | ✅ Lower           |\n",
    "| Speed               | ❌ Slower          | ✅ Much faster     |\n",
    "| Broadcasting        | ❌ No              | ✅ Yes             |\n"
   ]
  },
  {
   "cell_type": "markdown",
   "id": "0d404adc",
   "metadata": {},
   "source": [
    "###  Example: Multiply Each Element by 2"
   ]
  },
  {
   "cell_type": "code",
   "execution_count": 29,
   "id": "92ffbbc9",
   "metadata": {},
   "outputs": [
    {
     "name": "stdout",
     "output_type": "stream",
     "text": [
      "[2, 4, 6, 8, 10]\n",
      "[ 2  4  6  8 10]\n"
     ]
    }
   ],
   "source": [
    "my_list = [1, 2, 3, 4, 5]\n",
    "doubled = [x * 2 for x in my_list]\n",
    "\n",
    "print(doubled)  # Output: [2, 4, 6, 8, 10]\n",
    "\n",
    "\n",
    "import numpy as np\n",
    "\n",
    "my_array = np.array([1, 2, 3, 4, 5])\n",
    "doubled = my_array * 2\n",
    "\n",
    "print(doubled)  # Output: [ 2  4  6  8 10]\n"
   ]
  },
  {
   "cell_type": "markdown",
   "id": "5ca97b7c",
   "metadata": {},
   "source": [
    "### Matrix Mutiplication"
   ]
  },
  {
   "cell_type": "code",
   "execution_count": 33,
   "id": "41bdf102",
   "metadata": {},
   "outputs": [
    {
     "name": "stdout",
     "output_type": "stream",
     "text": [
      "[[1, 2], [3, 4]]\n",
      "[[5, 6], [7, 8]]\n",
      "[[19, 22], [43, 50]]\n"
     ]
    }
   ],
   "source": [
    "A = [[1, 2],\n",
    "     [3, 4]]\n",
    "\n",
    "B = [[5, 6],\n",
    "     [7, 8]]\n",
    "# Manual multiplication\n",
    "print(A)\n",
    "print(B)\n",
    "result = [[A[0][0]*B[0][0] + A[0][1]*B[1][0], A[0][0]*B[0][1] + A[0][1]*B[1][1]],\n",
    "          [A[1][0]*B[0][0] + A[1][1]*B[1][0], A[1][0]*B[0][1] + A[1][1]*B[1][1]]]\n",
    "print(result)"
   ]
  },
  {
   "cell_type": "code",
   "execution_count": 34,
   "id": "3e363a8b",
   "metadata": {},
   "outputs": [
    {
     "name": "stdout",
     "output_type": "stream",
     "text": [
      "[[1 2]\n",
      " [3 4]]\n",
      "[[5 6]\n",
      " [7 8]]\n",
      "[[19 22]\n",
      " [43 50]]\n"
     ]
    }
   ],
   "source": [
    "A = np.array([[1, 2],\n",
    "              [3, 4]])\n",
    "\n",
    "B = np.array([[5, 6],\n",
    "              [7, 8]])\n",
    "\n",
    "print(A)\n",
    "print(B)\n",
    "result = np.dot(A, B)\n",
    "print(result)"
   ]
  },
  {
   "cell_type": "markdown",
   "id": "21c5ac4c",
   "metadata": {},
   "source": [
    "### Conditional Logic (np.where)"
   ]
  },
  {
   "cell_type": "code",
   "execution_count": null,
   "id": "0376d71f",
   "metadata": {},
   "outputs": [],
   "source": []
  }
 ],
 "metadata": {
  "kernelspec": {
   "display_name": "Python 3 (ipykernel)",
   "language": "python",
   "name": "python3"
  },
  "language_info": {
   "codemirror_mode": {
    "name": "ipython",
    "version": 3
   },
   "file_extension": ".py",
   "mimetype": "text/x-python",
   "name": "python",
   "nbconvert_exporter": "python",
   "pygments_lexer": "ipython3",
   "version": "3.11.4"
  }
 },
 "nbformat": 4,
 "nbformat_minor": 5
}
